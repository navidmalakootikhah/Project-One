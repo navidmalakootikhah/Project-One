{
 "cells": [
  {
   "cell_type": "code",
   "execution_count": 134,
   "metadata": {},
   "outputs": [],
   "source": [
    "#Dependenceis\n",
    "\n",
    "from spotipy.oauth2 import SpotifyClientCredentials\n",
    "import spotipy\n",
    "from spotipy import util\n",
    "import sys\n",
    "from pprint import pprint\n",
    "from config import cid\n",
    "from config import secret\n",
    "import pandas as pd\n",
    "import matplotlib.pyplot as plt\n",
    "from scipy.stats import linregress\n",
    "\n",
    "#import set client id and secret key\n",
    "client_credentials_manager = SpotifyClientCredentials(client_id=cid, client_secret=secret)\n",
    "sp = spotipy.Spotify(client_credentials_manager=client_credentials_manager)"
   ]
  },
  {
   "cell_type": "markdown",
   "metadata": {},
   "source": [
    "# Data Sources\n",
    "\n",
    "We imported data a list of tracks from spotify's top 200 list in canada and used track information from spotify's API."
   ]
  },
  {
   "cell_type": "code",
   "execution_count": 74,
   "metadata": {},
   "outputs": [
    {
     "data": {
      "text/html": [
       "<div>\n",
       "<style scoped>\n",
       "    .dataframe tbody tr th:only-of-type {\n",
       "        vertical-align: middle;\n",
       "    }\n",
       "\n",
       "    .dataframe tbody tr th {\n",
       "        vertical-align: top;\n",
       "    }\n",
       "\n",
       "    .dataframe thead th {\n",
       "        text-align: right;\n",
       "    }\n",
       "</style>\n",
       "<table border=\"1\" class=\"dataframe\">\n",
       "  <thead>\n",
       "    <tr style=\"text-align: right;\">\n",
       "      <th></th>\n",
       "      <th>Position</th>\n",
       "      <th>Track Name</th>\n",
       "      <th>Artist</th>\n",
       "      <th>Streams</th>\n",
       "      <th>URL</th>\n",
       "    </tr>\n",
       "  </thead>\n",
       "  <tbody>\n",
       "    <tr>\n",
       "      <td>0</td>\n",
       "      <td>1</td>\n",
       "      <td>bad guy</td>\n",
       "      <td>Billie Eilish</td>\n",
       "      <td>288698</td>\n",
       "      <td>https://open.spotify.com/track/2Fxmhks0bxGSBdJ...</td>\n",
       "    </tr>\n",
       "    <tr>\n",
       "      <td>1</td>\n",
       "      <td>2</td>\n",
       "      <td>Old Town Road</td>\n",
       "      <td>Lil Nas X</td>\n",
       "      <td>188943</td>\n",
       "      <td>https://open.spotify.com/track/53CJANUxooaqGOt...</td>\n",
       "    </tr>\n",
       "    <tr>\n",
       "      <td>2</td>\n",
       "      <td>3</td>\n",
       "      <td>wish you were gay</td>\n",
       "      <td>Billie Eilish</td>\n",
       "      <td>188177</td>\n",
       "      <td>https://open.spotify.com/track/3Fj47GNK2kUF0ua...</td>\n",
       "    </tr>\n",
       "    <tr>\n",
       "      <td>3</td>\n",
       "      <td>4</td>\n",
       "      <td>bury a friend</td>\n",
       "      <td>Billie Eilish</td>\n",
       "      <td>151088</td>\n",
       "      <td>https://open.spotify.com/track/4SSnFejRGlZikf0...</td>\n",
       "    </tr>\n",
       "    <tr>\n",
       "      <td>4</td>\n",
       "      <td>5</td>\n",
       "      <td>Sunflower - Spider-Man: Into the Spider-Verse</td>\n",
       "      <td>Post Malone</td>\n",
       "      <td>146852</td>\n",
       "      <td>https://open.spotify.com/track/3KkXRkHbMCARz0a...</td>\n",
       "    </tr>\n",
       "  </tbody>\n",
       "</table>\n",
       "</div>"
      ],
      "text/plain": [
       "   Position                                     Track Name         Artist  \\\n",
       "0         1                                        bad guy  Billie Eilish   \n",
       "1         2                                  Old Town Road      Lil Nas X   \n",
       "2         3                              wish you were gay  Billie Eilish   \n",
       "3         4                                  bury a friend  Billie Eilish   \n",
       "4         5  Sunflower - Spider-Man: Into the Spider-Verse    Post Malone   \n",
       "\n",
       "   Streams                                                URL  \n",
       "0   288698  https://open.spotify.com/track/2Fxmhks0bxGSBdJ...  \n",
       "1   188943  https://open.spotify.com/track/53CJANUxooaqGOt...  \n",
       "2   188177  https://open.spotify.com/track/3Fj47GNK2kUF0ua...  \n",
       "3   151088  https://open.spotify.com/track/4SSnFejRGlZikf0...  \n",
       "4   146852  https://open.spotify.com/track/3KkXRkHbMCARz0a...  "
      ]
     },
     "execution_count": 74,
     "metadata": {},
     "output_type": "execute_result"
    }
   ],
   "source": [
    "#top 200 hundred songs in Canada\n",
    "CA_20200311_file = pd.read_csv('Resources/regional-ca-daily-latest.csv', header = 1)\n",
    "CA_Q1_file = pd.read_csv('Resources/regional-ca-daily-2019-03-31.csv', header = 1)\n",
    "CA_Q2_file = pd.read_csv('Resources/regional-ca-daily-2019-06-30.csv', header = 1)\n",
    "CA_Q3_file = pd.read_csv('Resources/regional-ca-daily-2019-09-30.csv', header = 1)\n",
    "CA_Q4_file = pd.read_csv('Resources/regional-ca-daily-2019-12-31.csv', header = 1)\n",
    "\n",
    "top_songs_CA_Q1 = pd.DataFrame(CA_Q1_file)\n",
    "top_songs_CA_Q2 = pd.DataFrame(CA_Q2_file)\n",
    "top_songs_CA_Q3 = pd.DataFrame(CA_Q3_file)\n",
    "top_songs_CA_Q4 = pd.DataFrame(CA_Q4_file)\n",
    "\n",
    "top_songs_CA_Q1.head()"
   ]
  },
  {
   "cell_type": "code",
   "execution_count": 100,
   "metadata": {},
   "outputs": [],
   "source": [
    "#create a list of the csv file data frames\n",
    "df_list = [top_songs_CA_Q1 ,top_songs_CA_Q2 ,top_songs_CA_Q3 ,top_songs_CA_Q4 ]\n",
    "\n",
    "master_dictionary = {}\n",
    "\n",
    "#create a dictionary of a dictionary for the extracted data from the api\n",
    "for index, dataF in enumerate(df_list):\n",
    "\n",
    "    #Create data frame of Q1 data\n",
    "    dictionary = {}\n",
    "    dictionary['Duration'] = []\n",
    "\n",
    "    for i,x in dataF.iterrows():\n",
    "        dictionary['Duration'].append('hello')\n",
    "    \n",
    "    master_dictionary[index] = dictionary"
   ]
  },
  {
   "cell_type": "code",
   "execution_count": 53,
   "metadata": {},
   "outputs": [],
   "source": [
    "#Get json output of a track\n",
    "urn = 'spotify:track:0nbXyq5TXYPCO7pr3N8S4I'\n",
    "url = 'https://open.spotify.com/track/0nbXyq5TXYPCO7pr3N8S4I'\n",
    "#sp = spotipy.Spotify(client_credentials_manager=SpotifyClientCredentials())\n",
    "\n",
    "track = sp.track(url)\n",
    "#audio_analysis = sp.audio_analysis(url)\n",
    "audio_feature = sp.audio_features(url)\n",
    "#pprint(track)"
   ]
  },
  {
   "cell_type": "markdown",
   "metadata": {},
   "source": [
    "# Create Dataframe of needed information"
   ]
  },
  {
   "cell_type": "code",
   "execution_count": 33,
   "metadata": {},
   "outputs": [],
   "source": [
    "#sample = top_songs_CA_Q1[:50].copy()"
   ]
  },
  {
   "cell_type": "markdown",
   "metadata": {},
   "source": [
    "### Pull data for all for Quarters"
   ]
  },
  {
   "cell_type": "code",
   "execution_count": 102,
   "metadata": {},
   "outputs": [
    {
     "name": "stdout",
     "output_type": "stream",
     "text": [
      "retrying ...1secs\n",
      "retrying ...5secs\n",
      "retrying ...5secs\n",
      "retrying ...3secs\n",
      "retrying ...1secs\n",
      "retrying ...2secs\n",
      "retrying ...1secs\n",
      "retrying ...2secs\n",
      "retrying ...5secs\n",
      "retrying ...5secs\n"
     ]
    }
   ],
   "source": [
    "#create a list of the csv file data frames\n",
    "df_list = [top_songs_CA_Q1 ,top_songs_CA_Q2 ,top_songs_CA_Q3 ,top_songs_CA_Q4 ]\n",
    "\n",
    "#create empty master dictionary for loop below that accumulate extracted api data\n",
    "master_dictionary = {}\n",
    "\n",
    "#Create data frame for each quarter data\n",
    "for index, dataF in enumerate(df_list):\n",
    "    \n",
    "    dictionary = {}\n",
    "    dictionary['Duration'] = []\n",
    "    dictionary['Popularity'] = []\n",
    "    dictionary['Track Name'] = []\n",
    "    dictionary['Artist Name'] = []\n",
    "    dictionary['Tempo'] = []\n",
    "    dictionary['Valence'] = []\n",
    "    dictionary['Speechiness'] = []\n",
    "    dictionary['Danceability'] = []\n",
    "\n",
    "    #pulls data for each track in each quarter\n",
    "    for i,x in dataF.iterrows():\n",
    "        url = dataF.loc[i,'URL']\n",
    "        track = sp.track(url)\n",
    "        audio_features = sp.audio_features(url)\n",
    "        dictionary['Duration'].append(track['duration_ms'])\n",
    "        dictionary['Popularity'].append(track['popularity'])\n",
    "        dictionary['Track Name'].append(track['name'])\n",
    "        dictionary['Artist Name'].append(track['album']['artists'][0]['name'])\n",
    "        dictionary['Tempo'].append(audio_features[0]['tempo'])\n",
    "        dictionary['Valence'].append(audio_features[0]['valence'])\n",
    "        dictionary['Speechiness'].append(audio_features[0]['speechiness'])\n",
    "        dictionary['Danceability'].append(audio_features[0]['danceability'])\n",
    "    \n",
    "    #append quarter dictionary to master dictionary\n",
    "    master_dictionary[index] = dictionary"
   ]
  },
  {
   "cell_type": "markdown",
   "metadata": {},
   "source": [
    "### Break master dictionary into dataframe for each quarter"
   ]
  },
  {
   "cell_type": "code",
   "execution_count": 117,
   "metadata": {},
   "outputs": [
    {
     "data": {
      "text/html": [
       "<div>\n",
       "<style scoped>\n",
       "    .dataframe tbody tr th:only-of-type {\n",
       "        vertical-align: middle;\n",
       "    }\n",
       "\n",
       "    .dataframe tbody tr th {\n",
       "        vertical-align: top;\n",
       "    }\n",
       "\n",
       "    .dataframe thead th {\n",
       "        text-align: right;\n",
       "    }\n",
       "</style>\n",
       "<table border=\"1\" class=\"dataframe\">\n",
       "  <thead>\n",
       "    <tr style=\"text-align: right;\">\n",
       "      <th></th>\n",
       "      <th>Duration</th>\n",
       "      <th>Popularity</th>\n",
       "      <th>Track Name</th>\n",
       "      <th>Artist Name</th>\n",
       "      <th>Tempo</th>\n",
       "      <th>Valence</th>\n",
       "      <th>Speechiness</th>\n",
       "      <th>Danceability</th>\n",
       "      <th>Quarter</th>\n",
       "      <th>Streams</th>\n",
       "    </tr>\n",
       "  </thead>\n",
       "  <tbody>\n",
       "    <tr>\n",
       "      <td>0</td>\n",
       "      <td>194087</td>\n",
       "      <td>93</td>\n",
       "      <td>bad guy</td>\n",
       "      <td>Billie Eilish</td>\n",
       "      <td>135.128</td>\n",
       "      <td>0.562</td>\n",
       "      <td>0.3750</td>\n",
       "      <td>0.701</td>\n",
       "      <td>1</td>\n",
       "      <td>288698</td>\n",
       "    </tr>\n",
       "    <tr>\n",
       "      <td>1</td>\n",
       "      <td>113013</td>\n",
       "      <td>23</td>\n",
       "      <td>Old Town Road</td>\n",
       "      <td>Lil Nas X</td>\n",
       "      <td>136.019</td>\n",
       "      <td>0.471</td>\n",
       "      <td>0.1290</td>\n",
       "      <td>0.908</td>\n",
       "      <td>1</td>\n",
       "      <td>188943</td>\n",
       "    </tr>\n",
       "    <tr>\n",
       "      <td>2</td>\n",
       "      <td>221543</td>\n",
       "      <td>84</td>\n",
       "      <td>wish you were gay</td>\n",
       "      <td>Billie Eilish</td>\n",
       "      <td>118.028</td>\n",
       "      <td>0.282</td>\n",
       "      <td>0.2410</td>\n",
       "      <td>0.853</td>\n",
       "      <td>1</td>\n",
       "      <td>188177</td>\n",
       "    </tr>\n",
       "    <tr>\n",
       "      <td>3</td>\n",
       "      <td>193143</td>\n",
       "      <td>85</td>\n",
       "      <td>bury a friend</td>\n",
       "      <td>Billie Eilish</td>\n",
       "      <td>120.046</td>\n",
       "      <td>0.196</td>\n",
       "      <td>0.3320</td>\n",
       "      <td>0.905</td>\n",
       "      <td>1</td>\n",
       "      <td>151088</td>\n",
       "    </tr>\n",
       "    <tr>\n",
       "      <td>4</td>\n",
       "      <td>158040</td>\n",
       "      <td>86</td>\n",
       "      <td>Sunflower - Spider-Man: Into the Spider-Verse</td>\n",
       "      <td>Various Artists</td>\n",
       "      <td>89.911</td>\n",
       "      <td>0.913</td>\n",
       "      <td>0.0466</td>\n",
       "      <td>0.760</td>\n",
       "      <td>1</td>\n",
       "      <td>146852</td>\n",
       "    </tr>\n",
       "  </tbody>\n",
       "</table>\n",
       "</div>"
      ],
      "text/plain": [
       "   Duration  Popularity                                     Track Name  \\\n",
       "0    194087          93                                        bad guy   \n",
       "1    113013          23                                  Old Town Road   \n",
       "2    221543          84                              wish you were gay   \n",
       "3    193143          85                                  bury a friend   \n",
       "4    158040          86  Sunflower - Spider-Man: Into the Spider-Verse   \n",
       "\n",
       "       Artist Name    Tempo  Valence  Speechiness  Danceability  Quarter  \\\n",
       "0    Billie Eilish  135.128    0.562       0.3750         0.701        1   \n",
       "1        Lil Nas X  136.019    0.471       0.1290         0.908        1   \n",
       "2    Billie Eilish  118.028    0.282       0.2410         0.853        1   \n",
       "3    Billie Eilish  120.046    0.196       0.3320         0.905        1   \n",
       "4  Various Artists   89.911    0.913       0.0466         0.760        1   \n",
       "\n",
       "   Streams  \n",
       "0   288698  \n",
       "1   188943  \n",
       "2   188177  \n",
       "3   151088  \n",
       "4   146852  "
      ]
     },
     "execution_count": 117,
     "metadata": {},
     "output_type": "execute_result"
    }
   ],
   "source": [
    "#set dataframes\n",
    "df_Q1 = pd.DataFrame(master_dictionary[0])\n",
    "df_Q2 = pd.DataFrame(master_dictionary[1])\n",
    "df_Q3 = pd.DataFrame(master_dictionary[2])\n",
    "df_Q4 = pd.DataFrame(master_dictionary[3])\n",
    "\n",
    "quart_df_list = [df_Q1 ,df_Q2 ,df_Q3 ,df_Q4 ]\n",
    "\n",
    "#add quarter variable into each dataframe\n",
    "quarter = 1\n",
    "for dataF in quart_df_list:\n",
    "    dataF['Quarter'] = quarter\n",
    "    quarter = quarter + 1\n",
    "    \n",
    "#add streams columns from original csv to final data frame\n",
    "df_Q1['Streams'] = top_songs_CA_Q1['Streams']\n",
    "df_Q2['Streams'] = top_songs_CA_Q2['Streams']\n",
    "df_Q3['Streams'] = top_songs_CA_Q3['Streams']\n",
    "df_Q4['Streams'] = top_songs_CA_Q4['Streams']\n",
    "\n",
    "df_Q1.head()"
   ]
  },
  {
   "cell_type": "code",
   "execution_count": 124,
   "metadata": {},
   "outputs": [
    {
     "name": "stdout",
     "output_type": "stream",
     "text": [
      "800\n"
     ]
    },
    {
     "data": {
      "text/html": [
       "<div>\n",
       "<style scoped>\n",
       "    .dataframe tbody tr th:only-of-type {\n",
       "        vertical-align: middle;\n",
       "    }\n",
       "\n",
       "    .dataframe tbody tr th {\n",
       "        vertical-align: top;\n",
       "    }\n",
       "\n",
       "    .dataframe thead th {\n",
       "        text-align: right;\n",
       "    }\n",
       "</style>\n",
       "<table border=\"1\" class=\"dataframe\">\n",
       "  <thead>\n",
       "    <tr style=\"text-align: right;\">\n",
       "      <th></th>\n",
       "      <th>Duration</th>\n",
       "      <th>Popularity</th>\n",
       "      <th>Track Name</th>\n",
       "      <th>Artist Name</th>\n",
       "      <th>Tempo</th>\n",
       "      <th>Valence</th>\n",
       "      <th>Speechiness</th>\n",
       "      <th>Danceability</th>\n",
       "      <th>Quarter</th>\n",
       "      <th>Streams</th>\n",
       "    </tr>\n",
       "  </thead>\n",
       "  <tbody>\n",
       "    <tr>\n",
       "      <td>0</td>\n",
       "      <td>194087</td>\n",
       "      <td>93</td>\n",
       "      <td>bad guy</td>\n",
       "      <td>Billie Eilish</td>\n",
       "      <td>135.128</td>\n",
       "      <td>0.562</td>\n",
       "      <td>0.3750</td>\n",
       "      <td>0.701</td>\n",
       "      <td>1</td>\n",
       "      <td>288698</td>\n",
       "    </tr>\n",
       "    <tr>\n",
       "      <td>1</td>\n",
       "      <td>113013</td>\n",
       "      <td>23</td>\n",
       "      <td>Old Town Road</td>\n",
       "      <td>Lil Nas X</td>\n",
       "      <td>136.019</td>\n",
       "      <td>0.471</td>\n",
       "      <td>0.1290</td>\n",
       "      <td>0.908</td>\n",
       "      <td>1</td>\n",
       "      <td>188943</td>\n",
       "    </tr>\n",
       "    <tr>\n",
       "      <td>2</td>\n",
       "      <td>221543</td>\n",
       "      <td>84</td>\n",
       "      <td>wish you were gay</td>\n",
       "      <td>Billie Eilish</td>\n",
       "      <td>118.028</td>\n",
       "      <td>0.282</td>\n",
       "      <td>0.2410</td>\n",
       "      <td>0.853</td>\n",
       "      <td>1</td>\n",
       "      <td>188177</td>\n",
       "    </tr>\n",
       "    <tr>\n",
       "      <td>3</td>\n",
       "      <td>193143</td>\n",
       "      <td>85</td>\n",
       "      <td>bury a friend</td>\n",
       "      <td>Billie Eilish</td>\n",
       "      <td>120.046</td>\n",
       "      <td>0.196</td>\n",
       "      <td>0.3320</td>\n",
       "      <td>0.905</td>\n",
       "      <td>1</td>\n",
       "      <td>151088</td>\n",
       "    </tr>\n",
       "    <tr>\n",
       "      <td>4</td>\n",
       "      <td>158040</td>\n",
       "      <td>86</td>\n",
       "      <td>Sunflower - Spider-Man: Into the Spider-Verse</td>\n",
       "      <td>Various Artists</td>\n",
       "      <td>89.911</td>\n",
       "      <td>0.913</td>\n",
       "      <td>0.0466</td>\n",
       "      <td>0.760</td>\n",
       "      <td>1</td>\n",
       "      <td>146852</td>\n",
       "    </tr>\n",
       "  </tbody>\n",
       "</table>\n",
       "</div>"
      ],
      "text/plain": [
       "   Duration  Popularity                                     Track Name  \\\n",
       "0    194087          93                                        bad guy   \n",
       "1    113013          23                                  Old Town Road   \n",
       "2    221543          84                              wish you were gay   \n",
       "3    193143          85                                  bury a friend   \n",
       "4    158040          86  Sunflower - Spider-Man: Into the Spider-Verse   \n",
       "\n",
       "       Artist Name    Tempo  Valence  Speechiness  Danceability  Quarter  \\\n",
       "0    Billie Eilish  135.128    0.562       0.3750         0.701        1   \n",
       "1        Lil Nas X  136.019    0.471       0.1290         0.908        1   \n",
       "2    Billie Eilish  118.028    0.282       0.2410         0.853        1   \n",
       "3    Billie Eilish  120.046    0.196       0.3320         0.905        1   \n",
       "4  Various Artists   89.911    0.913       0.0466         0.760        1   \n",
       "\n",
       "   Streams  \n",
       "0   288698  \n",
       "1   188943  \n",
       "2   188177  \n",
       "3   151088  \n",
       "4   146852  "
      ]
     },
     "execution_count": 124,
     "metadata": {},
     "output_type": "execute_result"
    }
   ],
   "source": [
    "#Create merge dataframe with all for quarters\n",
    "merged_df = pd.DataFrame()\n",
    "for dataF in quart_df_list:\n",
    "    merged_df=merged_df.append(dataF,ignore_index=True)\n",
    "    \n",
    "print(len(merged_df))\n",
    "merged_df.head()"
   ]
  },
  {
   "cell_type": "markdown",
   "metadata": {},
   "source": [
    "# Sample Plots"
   ]
  },
  {
   "cell_type": "code",
   "execution_count": 130,
   "metadata": {},
   "outputs": [
    {
     "data": {
      "image/png": "[encoded data removed]",
      "text/plain": [
       "<Figure size 432x288 with 1 Axes>"
      ]
     },
     "metadata": {
      "needs_background": "light"
     },
     "output_type": "display_data"
    }
   ],
   "source": [
    "plt.scatter(df_Q1['Duration'], df_Q1['Streams'])\n",
    "plt.show()"
   ]
  },
  {
   "cell_type": "code",
   "execution_count": 131,
   "metadata": {},
   "outputs": [
    {
     "data": {
      "image/png": "[encoded data removed]",
      "text/plain": [
       "<Figure size 432x288 with 1 Axes>"
      ]
     },
     "metadata": {
      "needs_background": "light"
     },
     "output_type": "display_data"
    }
   ],
   "source": [
    "plt.scatter(df_Q2['Popularity'], df_Q2['Streams'])\n",
    "plt.show()"
   ]
  },
  {
   "cell_type": "code",
   "execution_count": 133,
   "metadata": {},
   "outputs": [
    {
     "data": {
      "image/png": "[encoded data removed]",
      "text/plain": [
       "<Figure size 432x288 with 1 Axes>"
      ]
     },
     "metadata": {
      "needs_background": "light"
     },
     "output_type": "display_data"
    }
   ],
   "source": [
    "plt.scatter(df_Q3['Popularity'], df_Q3['Duration'])\n",
    "plt.show()"
   ]
  },
  {
   "cell_type": "code",
   "execution_count": 137,
   "metadata": {},
   "outputs": [
    {
     "data": {
      "text/plain": [
       "-0.02642888260522023"
      ]
     },
     "execution_count": 137,
     "metadata": {},
     "output_type": "execute_result"
    }
   ],
   "source": [
    "(slope, intercept, rvalue, pvalue, stderr) = linregress(df_Q2['Popularity'], df_Q2['Streams'])\n",
    "rvalue"
   ]
  },
  {
   "cell_type": "code",
   "execution_count": null,
   "metadata": {},
   "outputs": [],
   "source": []
  }
 ],
 "metadata": {
  "kernelspec": {
   "display_name": "Python 3.7.4 64-bit ('anaconda3': virtualenv)",
   "language": "python",
   "name": "python37464bitanaconda3virtualenv045806ec1b7c44efa36b1015d8efe684"
  },
  "language_info": {
   "codemirror_mode": {
    "name": "ipython",
    "version": 3
   },
   "file_extension": ".py",
   "mimetype": "text/x-python",
   "name": "python",
   "nbconvert_exporter": "python",
   "pygments_lexer": "ipython3",
   "version": "3.7.4"
  }
 },
 "nbformat": 4,
 "nbformat_minor": 4
}
