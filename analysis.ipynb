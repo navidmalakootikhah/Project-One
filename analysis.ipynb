{
 "cells": [
  {
   "cell_type": "code",
   "execution_count": 39,
   "metadata": {},
   "outputs": [],
   "source": [
    "#Dependenceis\n",
    "\n",
    "from spotipy.oauth2 import SpotifyClientCredentials\n",
    "import spotipy\n",
    "from spotipy import util\n",
    "import sys\n",
    "from pprint import pprint\n",
    "from config import cid\n",
    "from config import secret\n",
    "import pandas as pd\n",
    "import matplotlib.pyplot as plt\n",
    "\n",
    "#import set client id and secret key\n",
    "client_credentials_manager = SpotifyClientCredentials(client_id=cid, client_secret=secret)\n",
    "sp = spotipy.Spotify(client_credentials_manager=client_credentials_manager)"
   ]
  },
  {
   "cell_type": "markdown",
   "metadata": {},
   "source": [
    "# Data Sources\n",
    "\n",
    "We imported data a list of tracks from spotify's top 100 list in canada and used track information from spotify's API."
   ]
  },
  {
   "cell_type": "code",
   "execution_count": 7,
   "metadata": {},
   "outputs": [
    {
     "data": {
      "text/html": [
       "<div>\n",
       "<style scoped>\n",
       "    .dataframe tbody tr th:only-of-type {\n",
       "        vertical-align: middle;\n",
       "    }\n",
       "\n",
       "    .dataframe tbody tr th {\n",
       "        vertical-align: top;\n",
       "    }\n",
       "\n",
       "    .dataframe thead th {\n",
       "        text-align: right;\n",
       "    }\n",
       "</style>\n",
       "<table border=\"1\" class=\"dataframe\">\n",
       "  <thead>\n",
       "    <tr style=\"text-align: right;\">\n",
       "      <th></th>\n",
       "      <th>Position</th>\n",
       "      <th>Track Name</th>\n",
       "      <th>Artist</th>\n",
       "      <th>Streams</th>\n",
       "      <th>URL</th>\n",
       "    </tr>\n",
       "  </thead>\n",
       "  <tbody>\n",
       "    <tr>\n",
       "      <td>0</td>\n",
       "      <td>1</td>\n",
       "      <td>The Box</td>\n",
       "      <td>Roddy Ricch</td>\n",
       "      <td>243040</td>\n",
       "      <td>https://open.spotify.com/track/0nbXyq5TXYPCO7p...</td>\n",
       "    </tr>\n",
       "    <tr>\n",
       "      <td>1</td>\n",
       "      <td>2</td>\n",
       "      <td>Dance Monkey</td>\n",
       "      <td>Tones and I</td>\n",
       "      <td>188427</td>\n",
       "      <td>https://open.spotify.com/track/1rgnBhdG2JDFTbY...</td>\n",
       "    </tr>\n",
       "    <tr>\n",
       "      <td>2</td>\n",
       "      <td>3</td>\n",
       "      <td>Intentions (feat. Quavo)</td>\n",
       "      <td>Justin Bieber</td>\n",
       "      <td>187172</td>\n",
       "      <td>https://open.spotify.com/track/4umIPjkehX1r7uh...</td>\n",
       "    </tr>\n",
       "    <tr>\n",
       "      <td>3</td>\n",
       "      <td>4</td>\n",
       "      <td>Blinding Lights</td>\n",
       "      <td>The Weeknd</td>\n",
       "      <td>186165</td>\n",
       "      <td>https://open.spotify.com/track/0sf12qNH5qcw8qp...</td>\n",
       "    </tr>\n",
       "    <tr>\n",
       "      <td>4</td>\n",
       "      <td>5</td>\n",
       "      <td>P2</td>\n",
       "      <td>Lil Uzi Vert</td>\n",
       "      <td>172936</td>\n",
       "      <td>https://open.spotify.com/track/3kW4z2pIj5VY5fL...</td>\n",
       "    </tr>\n",
       "  </tbody>\n",
       "</table>\n",
       "</div>"
      ],
      "text/plain": [
       "   Position                Track Name         Artist  Streams  \\\n",
       "0         1                   The Box    Roddy Ricch   243040   \n",
       "1         2              Dance Monkey    Tones and I   188427   \n",
       "2         3  Intentions (feat. Quavo)  Justin Bieber   187172   \n",
       "3         4           Blinding Lights     The Weeknd   186165   \n",
       "4         5                        P2   Lil Uzi Vert   172936   \n",
       "\n",
       "                                                 URL  \n",
       "0  https://open.spotify.com/track/0nbXyq5TXYPCO7p...  \n",
       "1  https://open.spotify.com/track/1rgnBhdG2JDFTbY...  \n",
       "2  https://open.spotify.com/track/4umIPjkehX1r7uh...  \n",
       "3  https://open.spotify.com/track/0sf12qNH5qcw8qp...  \n",
       "4  https://open.spotify.com/track/3kW4z2pIj5VY5fL...  "
      ]
     },
     "execution_count": 7,
     "metadata": {},
     "output_type": "execute_result"
    }
   ],
   "source": [
    "top_100_songs_CA_csv = pd.read_csv('Resources/regional-ca-daily-latest.csv', header = 1)\n",
    "\n",
    "top_100_songs_CA = pd.DataFrame(top_100_songs_CA_csv)\n",
    "\n",
    "top_100_songs_CA.head()"
   ]
  },
  {
   "cell_type": "code",
   "execution_count": 53,
   "metadata": {},
   "outputs": [],
   "source": [
    "#Get json output of a track\n",
    "urn = 'spotify:track:0nbXyq5TXYPCO7pr3N8S4I'\n",
    "url = 'https://open.spotify.com/track/0nbXyq5TXYPCO7pr3N8S4I'\n",
    "#sp = spotipy.Spotify(client_credentials_manager=SpotifyClientCredentials())\n",
    "\n",
    "track = sp.track(url)\n",
    "#audio_analysis = sp.audio_analysis(url)\n",
    "audio_feature = sp.audio_features(url)\n",
    "#pprint(track)"
   ]
  },
  {
   "cell_type": "markdown",
   "metadata": {},
   "source": [
    "# Create Dataframe of needed information"
   ]
  },
  {
   "cell_type": "code",
   "execution_count": 33,
   "metadata": {},
   "outputs": [],
   "source": [
    "sample = top_100_songs_CA[:50].copy()"
   ]
  },
  {
   "cell_type": "code",
   "execution_count": 71,
   "metadata": {},
   "outputs": [
    {
     "name": "stdout",
     "output_type": "stream",
     "text": [
      "retrying ...3secs\n",
      "retrying ...2secs\n"
     ]
    }
   ],
   "source": [
    "dictionary = {}\n",
    "dictionary['Duration'] = []\n",
    "dictionary['Popularity'] = []\n",
    "dictionary['Track Name'] = []\n",
    "dictionary['Artist Name'] = []\n",
    "dictionary['Tempo'] = []\n",
    "dictionary['Valence'] = []\n",
    "dictionary['Speechiness'] = []\n",
    "dictionary['Danceability'] = []\n",
    "\n",
    "\n",
    "for i,x in top_100_songs_CA.iterrows():\n",
    "    url = top_100_songs_CA.loc[i,'URL']\n",
    "    track = sp.track(url)\n",
    "    audio_features = sp.audio_features(url)\n",
    "    dictionary['Duration'].append(track['duration_ms'])\n",
    "    dictionary['Popularity'].append(track['popularity'])\n",
    "    dictionary['Track Name'].append(track['name'])\n",
    "    dictionary['Artist Name'].append(track['album']['artists'][0]['name'])\n",
    "    dictionary['Tempo'].append(audio_features[0]['tempo'])\n",
    "    dictionary['Valence'].append(audio_features[0]['valence'])\n",
    "    dictionary['Speechiness'].append(audio_features[0]['speechiness'])\n",
    "    dictionary['Danceability'].append(audio_features[0]['danceability'])\n",
    "    "
   ]
  },
  {
   "cell_type": "code",
   "execution_count": 72,
   "metadata": {},
   "outputs": [
    {
     "data": {
      "text/html": [
       "<div>\n",
       "<style scoped>\n",
       "    .dataframe tbody tr th:only-of-type {\n",
       "        vertical-align: middle;\n",
       "    }\n",
       "\n",
       "    .dataframe tbody tr th {\n",
       "        vertical-align: top;\n",
       "    }\n",
       "\n",
       "    .dataframe thead th {\n",
       "        text-align: right;\n",
       "    }\n",
       "</style>\n",
       "<table border=\"1\" class=\"dataframe\">\n",
       "  <thead>\n",
       "    <tr style=\"text-align: right;\">\n",
       "      <th></th>\n",
       "      <th>Duration</th>\n",
       "      <th>Popularity</th>\n",
       "      <th>Track Name</th>\n",
       "      <th>Artist Name</th>\n",
       "      <th>Tempo</th>\n",
       "      <th>Valence</th>\n",
       "      <th>Speechiness</th>\n",
       "      <th>Danceability</th>\n",
       "      <th>Streams</th>\n",
       "    </tr>\n",
       "  </thead>\n",
       "  <tbody>\n",
       "    <tr>\n",
       "      <td>0</td>\n",
       "      <td>196652</td>\n",
       "      <td>99</td>\n",
       "      <td>The Box</td>\n",
       "      <td>Roddy Ricch</td>\n",
       "      <td>116.971</td>\n",
       "      <td>0.642</td>\n",
       "      <td>0.0559</td>\n",
       "      <td>0.896</td>\n",
       "      <td>243040</td>\n",
       "    </tr>\n",
       "    <tr>\n",
       "      <td>1</td>\n",
       "      <td>209754</td>\n",
       "      <td>76</td>\n",
       "      <td>Dance Monkey</td>\n",
       "      <td>Tones and I</td>\n",
       "      <td>98.078</td>\n",
       "      <td>0.540</td>\n",
       "      <td>0.0988</td>\n",
       "      <td>0.825</td>\n",
       "      <td>188427</td>\n",
       "    </tr>\n",
       "    <tr>\n",
       "      <td>2</td>\n",
       "      <td>212866</td>\n",
       "      <td>89</td>\n",
       "      <td>Intentions (feat. Quavo)</td>\n",
       "      <td>Justin Bieber</td>\n",
       "      <td>147.986</td>\n",
       "      <td>0.874</td>\n",
       "      <td>0.0575</td>\n",
       "      <td>0.806</td>\n",
       "      <td>187172</td>\n",
       "    </tr>\n",
       "    <tr>\n",
       "      <td>3</td>\n",
       "      <td>201573</td>\n",
       "      <td>100</td>\n",
       "      <td>Blinding Lights</td>\n",
       "      <td>The Weeknd</td>\n",
       "      <td>171.017</td>\n",
       "      <td>0.345</td>\n",
       "      <td>0.0629</td>\n",
       "      <td>0.513</td>\n",
       "      <td>186165</td>\n",
       "    </tr>\n",
       "    <tr>\n",
       "      <td>4</td>\n",
       "      <td>234626</td>\n",
       "      <td>82</td>\n",
       "      <td>P2</td>\n",
       "      <td>Lil Uzi Vert</td>\n",
       "      <td>155.086</td>\n",
       "      <td>0.490</td>\n",
       "      <td>0.1930</td>\n",
       "      <td>0.775</td>\n",
       "      <td>172936</td>\n",
       "    </tr>\n",
       "  </tbody>\n",
       "</table>\n",
       "</div>"
      ],
      "text/plain": [
       "   Duration  Popularity                Track Name    Artist Name    Tempo  \\\n",
       "0    196652          99                   The Box    Roddy Ricch  116.971   \n",
       "1    209754          76              Dance Monkey    Tones and I   98.078   \n",
       "2    212866          89  Intentions (feat. Quavo)  Justin Bieber  147.986   \n",
       "3    201573         100           Blinding Lights     The Weeknd  171.017   \n",
       "4    234626          82                        P2   Lil Uzi Vert  155.086   \n",
       "\n",
       "   Valence  Speechiness  Danceability  Streams  \n",
       "0    0.642       0.0559         0.896   243040  \n",
       "1    0.540       0.0988         0.825   188427  \n",
       "2    0.874       0.0575         0.806   187172  \n",
       "3    0.345       0.0629         0.513   186165  \n",
       "4    0.490       0.1930         0.775   172936  "
      ]
     },
     "execution_count": 72,
     "metadata": {},
     "output_type": "execute_result"
    }
   ],
   "source": [
    "df = pd.DataFrame(dictionary)\n",
    "streams = top_100_songs_CA['Streams']\n",
    "df['Streams'] = streams\n",
    "df.head()\n",
    "#print(len(df))\n",
    "#df.tail()"
   ]
  },
  {
   "cell_type": "code",
   "execution_count": 64,
   "metadata": {},
   "outputs": [
    {
     "data": {
      "text/plain": [
       "<matplotlib.collections.PathCollection at 0x11d272090>"
      ]
     },
     "execution_count": 64,
     "metadata": {},
     "output_type": "execute_result"
    },
    {
     "data": {
      "image/png": "[encoded data removed]",
      "text/plain": [
       "<Figure size 432x288 with 1 Axes>"
      ]
     },
     "metadata": {
      "needs_background": "light"
     },
     "output_type": "display_data"
    }
   ],
   "source": [
    "plt.scatter(df['Duration'], df['Streams'])"
   ]
  },
  {
   "cell_type": "code",
   "execution_count": 65,
   "metadata": {},
   "outputs": [
    {
     "data": {
      "text/plain": [
       "<matplotlib.collections.PathCollection at 0x10acf4310>"
      ]
     },
     "execution_count": 65,
     "metadata": {},
     "output_type": "execute_result"
    },
    {
     "data": {
      "image/png": "[encoded data removed]",
      "text/plain": [
       "<Figure size 432x288 with 1 Axes>"
      ]
     },
     "metadata": {
      "needs_background": "light"
     },
     "output_type": "display_data"
    }
   ],
   "source": [
    "plt.scatter(df['Popularity'], df['Streams'])"
   ]
  },
  {
   "cell_type": "code",
   "execution_count": 66,
   "metadata": {},
   "outputs": [
    {
     "data": {
      "text/plain": [
       "<matplotlib.collections.PathCollection at 0x11d26a910>"
      ]
     },
     "execution_count": 66,
     "metadata": {},
     "output_type": "execute_result"
    },
    {
     "data": {
      "image/png": "[encoded data removed]",
      "text/plain": [
       "<Figure size 432x288 with 1 Axes>"
      ]
     },
     "metadata": {
      "needs_background": "light"
     },
     "output_type": "display_data"
    }
   ],
   "source": [
    "plt.scatter(df['Popularity'], df['Duration'])"
   ]
  },
  {
   "cell_type": "code",
   "execution_count": null,
   "metadata": {},
   "outputs": [],
   "source": []
  }
 ],
 "metadata": {
  "kernelspec": {
   "display_name": "Python 3.7.4 64-bit ('anaconda3': virtualenv)",
   "language": "python",
   "name": "python37464bitanaconda3virtualenv045806ec1b7c44efa36b1015d8efe684"
  },
  "language_info": {
   "codemirror_mode": {
    "name": "ipython",
    "version": 3
   },
   "file_extension": ".py",
   "mimetype": "text/x-python",
   "name": "python",
   "nbconvert_exporter": "python",
   "pygments_lexer": "ipython3",
   "version": "3.7.4"
  }
 },
 "nbformat": 4,
 "nbformat_minor": 4
}
