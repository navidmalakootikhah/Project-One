{
 "cells": [
  {
   "cell_type": "code",
   "execution_count": 124,
   "metadata": {},
   "outputs": [],
   "source": [
    "#Dependenceis\n",
    "\n",
    "from spotipy.oauth2 import SpotifyClientCredentials\n",
    "import spotipy\n",
    "from spotipy import util\n",
    "import sys\n",
    "from pprint import pprint\n",
    "from config import cid\n",
    "from config import secret\n",
    "import pandas as pd\n",
    "import matplotlib.pyplot as plt\n",
    "from scipy.stats import linregress\n",
    "from scipy.stats import pearsonr\n",
    "from scipy.stats import f_oneway\n",
    "\n",
    "#import set client id and secret key\n",
    "client_credentials_manager = SpotifyClientCredentials(client_id=cid, client_secret=secret)\n",
    "sp = spotipy.Spotify(client_credentials_manager=client_credentials_manager)"
   ]
  },
  {
   "cell_type": "markdown",
   "metadata": {},
   "source": [
    "# Data Sources\n",
    "\n",
    "We imported data a list of tracks from spotify's top 200 list in canada and used track information from spotify's API."
   ]
  },
  {
   "cell_type": "code",
   "execution_count": 2,
   "metadata": {},
   "outputs": [
    {
     "data": {
      "text/html": [
       "<div>\n",
       "<style scoped>\n",
       "    .dataframe tbody tr th:only-of-type {\n",
       "        vertical-align: middle;\n",
       "    }\n",
       "\n",
       "    .dataframe tbody tr th {\n",
       "        vertical-align: top;\n",
       "    }\n",
       "\n",
       "    .dataframe thead th {\n",
       "        text-align: right;\n",
       "    }\n",
       "</style>\n",
       "<table border=\"1\" class=\"dataframe\">\n",
       "  <thead>\n",
       "    <tr style=\"text-align: right;\">\n",
       "      <th></th>\n",
       "      <th>Position</th>\n",
       "      <th>Track Name</th>\n",
       "      <th>Artist</th>\n",
       "      <th>Streams</th>\n",
       "      <th>URL</th>\n",
       "    </tr>\n",
       "  </thead>\n",
       "  <tbody>\n",
       "    <tr>\n",
       "      <td>0</td>\n",
       "      <td>1</td>\n",
       "      <td>bad guy</td>\n",
       "      <td>Billie Eilish</td>\n",
       "      <td>288698</td>\n",
       "      <td>https://open.spotify.com/track/2Fxmhks0bxGSBdJ...</td>\n",
       "    </tr>\n",
       "    <tr>\n",
       "      <td>1</td>\n",
       "      <td>2</td>\n",
       "      <td>Old Town Road</td>\n",
       "      <td>Lil Nas X</td>\n",
       "      <td>188943</td>\n",
       "      <td>https://open.spotify.com/track/53CJANUxooaqGOt...</td>\n",
       "    </tr>\n",
       "    <tr>\n",
       "      <td>2</td>\n",
       "      <td>3</td>\n",
       "      <td>wish you were gay</td>\n",
       "      <td>Billie Eilish</td>\n",
       "      <td>188177</td>\n",
       "      <td>https://open.spotify.com/track/3Fj47GNK2kUF0ua...</td>\n",
       "    </tr>\n",
       "    <tr>\n",
       "      <td>3</td>\n",
       "      <td>4</td>\n",
       "      <td>bury a friend</td>\n",
       "      <td>Billie Eilish</td>\n",
       "      <td>151088</td>\n",
       "      <td>https://open.spotify.com/track/4SSnFejRGlZikf0...</td>\n",
       "    </tr>\n",
       "    <tr>\n",
       "      <td>4</td>\n",
       "      <td>5</td>\n",
       "      <td>Sunflower - Spider-Man: Into the Spider-Verse</td>\n",
       "      <td>Post Malone</td>\n",
       "      <td>146852</td>\n",
       "      <td>https://open.spotify.com/track/3KkXRkHbMCARz0a...</td>\n",
       "    </tr>\n",
       "  </tbody>\n",
       "</table>\n",
       "</div>"
      ],
      "text/plain": [
       "   Position                                     Track Name         Artist  \\\n",
       "0         1                                        bad guy  Billie Eilish   \n",
       "1         2                                  Old Town Road      Lil Nas X   \n",
       "2         3                              wish you were gay  Billie Eilish   \n",
       "3         4                                  bury a friend  Billie Eilish   \n",
       "4         5  Sunflower - Spider-Man: Into the Spider-Verse    Post Malone   \n",
       "\n",
       "   Streams                                                URL  \n",
       "0   288698  https://open.spotify.com/track/2Fxmhks0bxGSBdJ...  \n",
       "1   188943  https://open.spotify.com/track/53CJANUxooaqGOt...  \n",
       "2   188177  https://open.spotify.com/track/3Fj47GNK2kUF0ua...  \n",
       "3   151088  https://open.spotify.com/track/4SSnFejRGlZikf0...  \n",
       "4   146852  https://open.spotify.com/track/3KkXRkHbMCARz0a...  "
      ]
     },
     "execution_count": 2,
     "metadata": {},
     "output_type": "execute_result"
    }
   ],
   "source": [
    "#top 200 hundred songs in Canada\n",
    "CA_20200311_file = pd.read_csv('Resources/regional-ca-daily-latest.csv', header = 1)\n",
    "CA_Q1_file = pd.read_csv('Resources/regional-ca-daily-2019-03-31.csv', header = 1)\n",
    "CA_Q2_file = pd.read_csv('Resources/regional-ca-daily-2019-06-30.csv', header = 1)\n",
    "CA_Q3_file = pd.read_csv('Resources/regional-ca-daily-2019-09-30.csv', header = 1)\n",
    "CA_Q4_file = pd.read_csv('Resources/regional-ca-daily-2019-12-31.csv', header = 1)\n",
    "\n",
    "top_songs_CA_Q1 = pd.DataFrame(CA_Q1_file)\n",
    "top_songs_CA_Q2 = pd.DataFrame(CA_Q2_file)\n",
    "top_songs_CA_Q3 = pd.DataFrame(CA_Q3_file)\n",
    "top_songs_CA_Q4 = pd.DataFrame(CA_Q4_file)\n",
    "\n",
    "top_songs_CA_Q1.head()"
   ]
  },
  {
   "cell_type": "code",
   "execution_count": 3,
   "metadata": {},
   "outputs": [],
   "source": [
    "#create a list of the csv file data frames\n",
    "df_list = [top_songs_CA_Q1 ,top_songs_CA_Q2 ,top_songs_CA_Q3 ,top_songs_CA_Q4 ]\n",
    "\n",
    "master_dictionary = {}\n",
    "\n",
    "#create a dictionary of a dictionary for the extracted data from the api\n",
    "for index, dataF in enumerate(df_list):\n",
    "\n",
    "    #Create data frame of Q1 data\n",
    "    dictionary = {}\n",
    "    dictionary['Duration'] = []\n",
    "\n",
    "    for i,x in dataF.iterrows():\n",
    "        dictionary['Duration'].append('hello')\n",
    "    \n",
    "    master_dictionary[index] = dictionary"
   ]
  },
  {
   "cell_type": "code",
   "execution_count": 155,
   "metadata": {},
   "outputs": [
    {
     "name": "stdout",
     "output_type": "stream",
     "text": [
      "[{'acousticness': 0.104,\n",
      "  'analysis_url': 'https://api.spotify.com/v1/audio-analysis/0nbXyq5TXYPCO7pr3N8S4I',\n",
      "  'danceability': 0.896,\n",
      "  'duration_ms': 196653,\n",
      "  'energy': 0.586,\n",
      "  'id': '0nbXyq5TXYPCO7pr3N8S4I',\n",
      "  'instrumentalness': 0,\n",
      "  'key': 10,\n",
      "  'liveness': 0.79,\n",
      "  'loudness': -6.687,\n",
      "  'mode': 0,\n",
      "  'speechiness': 0.0559,\n",
      "  'tempo': 116.971,\n",
      "  'time_signature': 4,\n",
      "  'track_href': 'https://api.spotify.com/v1/tracks/0nbXyq5TXYPCO7pr3N8S4I',\n",
      "  'type': 'audio_features',\n",
      "  'uri': 'spotify:track:0nbXyq5TXYPCO7pr3N8S4I',\n",
      "  'valence': 0.642}]\n"
     ]
    }
   ],
   "source": [
    "#Get json output of a track\n",
    "urn = 'spotify:track:0nbXyq5TXYPCO7pr3N8S4I'\n",
    "url = 'https://open.spotify.com/track/0nbXyq5TXYPCO7pr3N8S4I'\n",
    "#sp = spotipy.Spotify(client_credentials_manager=SpotifyClientCredentials())\n",
    "\n",
    "track = sp.track(url)\n",
    "#audio_analysis = sp.audio_analysis(url)\n",
    "audio_feature = sp.audio_features(url)\n",
    "pprint(audio_feature)"
   ]
  },
  {
   "cell_type": "markdown",
   "metadata": {},
   "source": [
    "# Create Dataframe of needed information"
   ]
  },
  {
   "cell_type": "code",
   "execution_count": 5,
   "metadata": {},
   "outputs": [],
   "source": [
    "#sample = top_songs_CA_Q1[:50].copy()"
   ]
  },
  {
   "cell_type": "markdown",
   "metadata": {},
   "source": [
    "### Pull data for all for Quarters"
   ]
  },
  {
   "cell_type": "code",
   "execution_count": 6,
   "metadata": {},
   "outputs": [
    {
     "name": "stdout",
     "output_type": "stream",
     "text": [
      "retrying ...3secs\n",
      "retrying ...1secs\n",
      "retrying ...4secs\n",
      "retrying ...3secs\n",
      "retrying ...1secs\n",
      "retrying ...3secs\n"
     ]
    }
   ],
   "source": [
    "#create a list of the csv file data frames\n",
    "df_list = [top_songs_CA_Q1 ,top_songs_CA_Q2 ,top_songs_CA_Q3 ,top_songs_CA_Q4 ]\n",
    "\n",
    "#create empty master dictionary for loop below that accumulate extracted api data\n",
    "master_dictionary = {}\n",
    "\n",
    "#Create data frame for each quarter data\n",
    "for index, dataF in enumerate(df_list):\n",
    "    \n",
    "    dictionary = {}\n",
    "    dictionary['Duration'] = []\n",
    "    dictionary['Popularity'] = []\n",
    "    dictionary['Track Name'] = []\n",
    "    dictionary['Artist Name'] = []\n",
    "    dictionary['Tempo'] = []\n",
    "    dictionary['Valence'] = []\n",
    "    dictionary['Speechiness'] = []\n",
    "    dictionary['Danceability'] = []\n",
    "\n",
    "    #pulls data for each track in each quarter\n",
    "    for i,x in dataF.iterrows():\n",
    "        url = dataF.loc[i,'URL']\n",
    "        track = sp.track(url)\n",
    "        audio_features = sp.audio_features(url)\n",
    "        dictionary['Duration'].append(track['duration_ms'])\n",
    "        dictionary['Popularity'].append(track['popularity'])\n",
    "        dictionary['Track Name'].append(track['name'])\n",
    "        dictionary['Artist Name'].append(track['album']['artists'][0]['name'])\n",
    "        dictionary['Tempo'].append(audio_features[0]['tempo'])\n",
    "        dictionary['Valence'].append(audio_features[0]['valence'])\n",
    "        dictionary['Speechiness'].append(audio_features[0]['speechiness'])\n",
    "        dictionary['Danceability'].append(audio_features[0]['danceability'])\n",
    "    \n",
    "    #append quarter dictionary to master dictionary\n",
    "    master_dictionary[index] = dictionary"
   ]
  },
  {
   "cell_type": "markdown",
   "metadata": {},
   "source": [
    "### Break master dictionary into dataframe for each quarter"
   ]
  },
  {
   "cell_type": "code",
   "execution_count": 7,
   "metadata": {},
   "outputs": [
    {
     "data": {
      "text/html": [
       "<div>\n",
       "<style scoped>\n",
       "    .dataframe tbody tr th:only-of-type {\n",
       "        vertical-align: middle;\n",
       "    }\n",
       "\n",
       "    .dataframe tbody tr th {\n",
       "        vertical-align: top;\n",
       "    }\n",
       "\n",
       "    .dataframe thead th {\n",
       "        text-align: right;\n",
       "    }\n",
       "</style>\n",
       "<table border=\"1\" class=\"dataframe\">\n",
       "  <thead>\n",
       "    <tr style=\"text-align: right;\">\n",
       "      <th></th>\n",
       "      <th>Duration</th>\n",
       "      <th>Popularity</th>\n",
       "      <th>Track Name</th>\n",
       "      <th>Artist Name</th>\n",
       "      <th>Tempo</th>\n",
       "      <th>Valence</th>\n",
       "      <th>Speechiness</th>\n",
       "      <th>Danceability</th>\n",
       "      <th>Quarter</th>\n",
       "      <th>Streams</th>\n",
       "    </tr>\n",
       "  </thead>\n",
       "  <tbody>\n",
       "    <tr>\n",
       "      <td>0</td>\n",
       "      <td>194087</td>\n",
       "      <td>93</td>\n",
       "      <td>bad guy</td>\n",
       "      <td>Billie Eilish</td>\n",
       "      <td>135.128</td>\n",
       "      <td>0.562</td>\n",
       "      <td>0.3750</td>\n",
       "      <td>0.701</td>\n",
       "      <td>1</td>\n",
       "      <td>288698</td>\n",
       "    </tr>\n",
       "    <tr>\n",
       "      <td>1</td>\n",
       "      <td>113013</td>\n",
       "      <td>23</td>\n",
       "      <td>Old Town Road</td>\n",
       "      <td>Lil Nas X</td>\n",
       "      <td>136.019</td>\n",
       "      <td>0.471</td>\n",
       "      <td>0.1290</td>\n",
       "      <td>0.908</td>\n",
       "      <td>1</td>\n",
       "      <td>188943</td>\n",
       "    </tr>\n",
       "    <tr>\n",
       "      <td>2</td>\n",
       "      <td>221543</td>\n",
       "      <td>84</td>\n",
       "      <td>wish you were gay</td>\n",
       "      <td>Billie Eilish</td>\n",
       "      <td>118.028</td>\n",
       "      <td>0.282</td>\n",
       "      <td>0.2410</td>\n",
       "      <td>0.853</td>\n",
       "      <td>1</td>\n",
       "      <td>188177</td>\n",
       "    </tr>\n",
       "    <tr>\n",
       "      <td>3</td>\n",
       "      <td>193143</td>\n",
       "      <td>85</td>\n",
       "      <td>bury a friend</td>\n",
       "      <td>Billie Eilish</td>\n",
       "      <td>120.046</td>\n",
       "      <td>0.196</td>\n",
       "      <td>0.3320</td>\n",
       "      <td>0.905</td>\n",
       "      <td>1</td>\n",
       "      <td>151088</td>\n",
       "    </tr>\n",
       "    <tr>\n",
       "      <td>4</td>\n",
       "      <td>158040</td>\n",
       "      <td>86</td>\n",
       "      <td>Sunflower - Spider-Man: Into the Spider-Verse</td>\n",
       "      <td>Various Artists</td>\n",
       "      <td>89.911</td>\n",
       "      <td>0.913</td>\n",
       "      <td>0.0466</td>\n",
       "      <td>0.760</td>\n",
       "      <td>1</td>\n",
       "      <td>146852</td>\n",
       "    </tr>\n",
       "  </tbody>\n",
       "</table>\n",
       "</div>"
      ],
      "text/plain": [
       "   Duration  Popularity                                     Track Name  \\\n",
       "0    194087          93                                        bad guy   \n",
       "1    113013          23                                  Old Town Road   \n",
       "2    221543          84                              wish you were gay   \n",
       "3    193143          85                                  bury a friend   \n",
       "4    158040          86  Sunflower - Spider-Man: Into the Spider-Verse   \n",
       "\n",
       "       Artist Name    Tempo  Valence  Speechiness  Danceability  Quarter  \\\n",
       "0    Billie Eilish  135.128    0.562       0.3750         0.701        1   \n",
       "1        Lil Nas X  136.019    0.471       0.1290         0.908        1   \n",
       "2    Billie Eilish  118.028    0.282       0.2410         0.853        1   \n",
       "3    Billie Eilish  120.046    0.196       0.3320         0.905        1   \n",
       "4  Various Artists   89.911    0.913       0.0466         0.760        1   \n",
       "\n",
       "   Streams  \n",
       "0   288698  \n",
       "1   188943  \n",
       "2   188177  \n",
       "3   151088  \n",
       "4   146852  "
      ]
     },
     "execution_count": 7,
     "metadata": {},
     "output_type": "execute_result"
    }
   ],
   "source": [
    "#set dataframes\n",
    "df_Q1 = pd.DataFrame(master_dictionary[0])\n",
    "df_Q2 = pd.DataFrame(master_dictionary[1])\n",
    "df_Q3 = pd.DataFrame(master_dictionary[2])\n",
    "df_Q4 = pd.DataFrame(master_dictionary[3])\n",
    "\n",
    "quart_df_list = [df_Q1 ,df_Q2 ,df_Q3 ,df_Q4 ]\n",
    "\n",
    "#add quarter variable into each dataframe\n",
    "quarter = 1\n",
    "for dataF in quart_df_list:\n",
    "    dataF['Quarter'] = quarter\n",
    "    quarter = quarter + 1\n",
    "    \n",
    "#add streams columns from original csv to final data frame\n",
    "df_Q1['Streams'] = top_songs_CA_Q1['Streams']\n",
    "df_Q2['Streams'] = top_songs_CA_Q2['Streams']\n",
    "df_Q3['Streams'] = top_songs_CA_Q3['Streams']\n",
    "df_Q4['Streams'] = top_songs_CA_Q4['Streams']\n",
    "\n",
    "df_Q1.head()"
   ]
  },
  {
   "cell_type": "code",
   "execution_count": 8,
   "metadata": {},
   "outputs": [
    {
     "name": "stdout",
     "output_type": "stream",
     "text": [
      "800\n"
     ]
    },
    {
     "data": {
      "text/html": [
       "<div>\n",
       "<style scoped>\n",
       "    .dataframe tbody tr th:only-of-type {\n",
       "        vertical-align: middle;\n",
       "    }\n",
       "\n",
       "    .dataframe tbody tr th {\n",
       "        vertical-align: top;\n",
       "    }\n",
       "\n",
       "    .dataframe thead th {\n",
       "        text-align: right;\n",
       "    }\n",
       "</style>\n",
       "<table border=\"1\" class=\"dataframe\">\n",
       "  <thead>\n",
       "    <tr style=\"text-align: right;\">\n",
       "      <th></th>\n",
       "      <th>Duration</th>\n",
       "      <th>Popularity</th>\n",
       "      <th>Track Name</th>\n",
       "      <th>Artist Name</th>\n",
       "      <th>Tempo</th>\n",
       "      <th>Valence</th>\n",
       "      <th>Speechiness</th>\n",
       "      <th>Danceability</th>\n",
       "      <th>Quarter</th>\n",
       "      <th>Streams</th>\n",
       "    </tr>\n",
       "  </thead>\n",
       "  <tbody>\n",
       "    <tr>\n",
       "      <td>0</td>\n",
       "      <td>194087</td>\n",
       "      <td>93</td>\n",
       "      <td>bad guy</td>\n",
       "      <td>Billie Eilish</td>\n",
       "      <td>135.128</td>\n",
       "      <td>0.562</td>\n",
       "      <td>0.3750</td>\n",
       "      <td>0.701</td>\n",
       "      <td>1</td>\n",
       "      <td>288698</td>\n",
       "    </tr>\n",
       "    <tr>\n",
       "      <td>1</td>\n",
       "      <td>113013</td>\n",
       "      <td>23</td>\n",
       "      <td>Old Town Road</td>\n",
       "      <td>Lil Nas X</td>\n",
       "      <td>136.019</td>\n",
       "      <td>0.471</td>\n",
       "      <td>0.1290</td>\n",
       "      <td>0.908</td>\n",
       "      <td>1</td>\n",
       "      <td>188943</td>\n",
       "    </tr>\n",
       "    <tr>\n",
       "      <td>2</td>\n",
       "      <td>221543</td>\n",
       "      <td>84</td>\n",
       "      <td>wish you were gay</td>\n",
       "      <td>Billie Eilish</td>\n",
       "      <td>118.028</td>\n",
       "      <td>0.282</td>\n",
       "      <td>0.2410</td>\n",
       "      <td>0.853</td>\n",
       "      <td>1</td>\n",
       "      <td>188177</td>\n",
       "    </tr>\n",
       "    <tr>\n",
       "      <td>3</td>\n",
       "      <td>193143</td>\n",
       "      <td>85</td>\n",
       "      <td>bury a friend</td>\n",
       "      <td>Billie Eilish</td>\n",
       "      <td>120.046</td>\n",
       "      <td>0.196</td>\n",
       "      <td>0.3320</td>\n",
       "      <td>0.905</td>\n",
       "      <td>1</td>\n",
       "      <td>151088</td>\n",
       "    </tr>\n",
       "    <tr>\n",
       "      <td>4</td>\n",
       "      <td>158040</td>\n",
       "      <td>86</td>\n",
       "      <td>Sunflower - Spider-Man: Into the Spider-Verse</td>\n",
       "      <td>Various Artists</td>\n",
       "      <td>89.911</td>\n",
       "      <td>0.913</td>\n",
       "      <td>0.0466</td>\n",
       "      <td>0.760</td>\n",
       "      <td>1</td>\n",
       "      <td>146852</td>\n",
       "    </tr>\n",
       "  </tbody>\n",
       "</table>\n",
       "</div>"
      ],
      "text/plain": [
       "   Duration  Popularity                                     Track Name  \\\n",
       "0    194087          93                                        bad guy   \n",
       "1    113013          23                                  Old Town Road   \n",
       "2    221543          84                              wish you were gay   \n",
       "3    193143          85                                  bury a friend   \n",
       "4    158040          86  Sunflower - Spider-Man: Into the Spider-Verse   \n",
       "\n",
       "       Artist Name    Tempo  Valence  Speechiness  Danceability  Quarter  \\\n",
       "0    Billie Eilish  135.128    0.562       0.3750         0.701        1   \n",
       "1        Lil Nas X  136.019    0.471       0.1290         0.908        1   \n",
       "2    Billie Eilish  118.028    0.282       0.2410         0.853        1   \n",
       "3    Billie Eilish  120.046    0.196       0.3320         0.905        1   \n",
       "4  Various Artists   89.911    0.913       0.0466         0.760        1   \n",
       "\n",
       "   Streams  \n",
       "0   288698  \n",
       "1   188943  \n",
       "2   188177  \n",
       "3   151088  \n",
       "4   146852  "
      ]
     },
     "execution_count": 8,
     "metadata": {},
     "output_type": "execute_result"
    }
   ],
   "source": [
    "#Create merge dataframe with all for quarters\n",
    "merged_df = pd.DataFrame()\n",
    "for dataF in quart_df_list:\n",
    "    merged_df=merged_df.append(dataF,ignore_index=True)\n",
    "    \n",
    "print(len(merged_df))\n",
    "merged_df.head()"
   ]
  },
  {
   "cell_type": "markdown",
   "metadata": {},
   "source": [
    "# Sample Plots"
   ]
  },
  {
   "cell_type": "code",
   "execution_count": 9,
   "metadata": {},
   "outputs": [
    {
     "data": {
      "image/png": "[encoded data removed]",
      "text/plain": [
       "<Figure size 432x288 with 1 Axes>"
      ]
     },
     "metadata": {
      "needs_background": "light"
     },
     "output_type": "display_data"
    }
   ],
   "source": [
    "plt.scatter(df_Q1['Duration'], df_Q1['Streams'])\n",
    "plt.show()"
   ]
  },
  {
   "cell_type": "code",
   "execution_count": 131,
   "metadata": {},
   "outputs": [
    {
     "data": {
      "image/png": "[encoded data removed]",
      "text/plain": [
       "<Figure size 432x288 with 1 Axes>"
      ]
     },
     "metadata": {
      "needs_background": "light"
     },
     "output_type": "display_data"
    }
   ],
   "source": [
    "plt.scatter(df_Q2['Popularity'], df_Q2['Streams'])\n",
    "plt.show()"
   ]
  },
  {
   "cell_type": "code",
   "execution_count": 133,
   "metadata": {},
   "outputs": [
    {
     "data": {
      "image/png": "[encoded data removed]",
      "text/plain": [
       "<Figure size 432x288 with 1 Axes>"
      ]
     },
     "metadata": {
      "needs_background": "light"
     },
     "output_type": "display_data"
    }
   ],
   "source": [
    "plt.scatter(df_Q3['Popularity'], df_Q3['Duration'])\n",
    "plt.show()"
   ]
  },
  {
   "cell_type": "code",
   "execution_count": 137,
   "metadata": {},
   "outputs": [
    {
     "data": {
      "text/plain": [
       "-0.02642888260522023"
      ]
     },
     "execution_count": 137,
     "metadata": {},
     "output_type": "execute_result"
    }
   ],
   "source": [
    "(slope, intercept, rvalue, pvalue, stderr) = linregress(df_Q2['Popularity'], df_Q2['Streams'])\n",
    "rvalue"
   ]
  },
  {
   "cell_type": "markdown",
   "metadata": {},
   "source": [
    "#Analysis of tempo 🚚\n"
   ]
  },
  {
   "cell_type": "code",
   "execution_count": 165,
   "metadata": {},
   "outputs": [
    {
     "data": {
      "image/png": "[encoded data removed]",
      "text/plain": [
       "<Figure size 1440x720 with 4 Axes>"
      ]
     },
     "metadata": {
      "needs_background": "light"
     },
     "output_type": "display_data"
    }
   ],
   "source": [
    "fig1, axs = plt.subplots(1,4,figsize=(20,10))\n",
    "\n",
    "\n",
    "\n",
    "ax1, ax2, ax3, ax4 = axs\n",
    "\n",
    "plt.setp(ax1, xticklabels=['Q1'])\n",
    "plt.setp(ax2, xticklabels=['Q2'])\n",
    "plt.setp(ax3, xticklabels=['Q3'])\n",
    "plt.setp(ax4, xticklabels=['Q4'])\n",
    "\n",
    "\n",
    "ax1.boxplot(df_Q1['Tempo'])\n",
    "ax2.boxplot(df_Q2['Tempo'])\n",
    "ax3.boxplot(df_Q3['Tempo'])\n",
    "ax4.boxplot(df_Q4['Tempo'])\n",
    "\n",
    "plt.show()"
   ]
  },
  {
   "cell_type": "code",
   "execution_count": 159,
   "metadata": {},
   "outputs": [
    {
     "data": {
      "text/html": [
       "<div>\n",
       "<style scoped>\n",
       "    .dataframe tbody tr th:only-of-type {\n",
       "        vertical-align: middle;\n",
       "    }\n",
       "\n",
       "    .dataframe tbody tr th {\n",
       "        vertical-align: top;\n",
       "    }\n",
       "\n",
       "    .dataframe thead th {\n",
       "        text-align: right;\n",
       "    }\n",
       "</style>\n",
       "<table border=\"1\" class=\"dataframe\">\n",
       "  <thead>\n",
       "    <tr style=\"text-align: right;\">\n",
       "      <th></th>\n",
       "      <th>count</th>\n",
       "      <th>mean</th>\n",
       "      <th>std</th>\n",
       "      <th>min</th>\n",
       "      <th>25%</th>\n",
       "      <th>50%</th>\n",
       "      <th>75%</th>\n",
       "      <th>max</th>\n",
       "    </tr>\n",
       "  </thead>\n",
       "  <tbody>\n",
       "    <tr>\n",
       "      <td>Q1</td>\n",
       "      <td>200.0</td>\n",
       "      <td>117.806420</td>\n",
       "      <td>29.191265</td>\n",
       "      <td>62.446</td>\n",
       "      <td>95.66575</td>\n",
       "      <td>113.1580</td>\n",
       "      <td>142.21050</td>\n",
       "      <td>202.006</td>\n",
       "    </tr>\n",
       "    <tr>\n",
       "      <td>Q2</td>\n",
       "      <td>200.0</td>\n",
       "      <td>119.556690</td>\n",
       "      <td>28.182540</td>\n",
       "      <td>63.050</td>\n",
       "      <td>97.91125</td>\n",
       "      <td>116.9625</td>\n",
       "      <td>140.02200</td>\n",
       "      <td>202.015</td>\n",
       "    </tr>\n",
       "    <tr>\n",
       "      <td>Q3</td>\n",
       "      <td>200.0</td>\n",
       "      <td>120.992890</td>\n",
       "      <td>30.047519</td>\n",
       "      <td>68.534</td>\n",
       "      <td>97.98550</td>\n",
       "      <td>117.4550</td>\n",
       "      <td>142.53925</td>\n",
       "      <td>204.096</td>\n",
       "    </tr>\n",
       "    <tr>\n",
       "      <td>Q4</td>\n",
       "      <td>200.0</td>\n",
       "      <td>118.938155</td>\n",
       "      <td>27.882898</td>\n",
       "      <td>68.534</td>\n",
       "      <td>97.97525</td>\n",
       "      <td>116.9690</td>\n",
       "      <td>137.21700</td>\n",
       "      <td>205.272</td>\n",
       "    </tr>\n",
       "  </tbody>\n",
       "</table>\n",
       "</div>"
      ],
      "text/plain": [
       "    count        mean        std     min       25%       50%        75%  \\\n",
       "Q1  200.0  117.806420  29.191265  62.446  95.66575  113.1580  142.21050   \n",
       "Q2  200.0  119.556690  28.182540  63.050  97.91125  116.9625  140.02200   \n",
       "Q3  200.0  120.992890  30.047519  68.534  97.98550  117.4550  142.53925   \n",
       "Q4  200.0  118.938155  27.882898  68.534  97.97525  116.9690  137.21700   \n",
       "\n",
       "        max  \n",
       "Q1  202.006  \n",
       "Q2  202.015  \n",
       "Q3  204.096  \n",
       "Q4  205.272  "
      ]
     },
     "execution_count": 159,
     "metadata": {},
     "output_type": "execute_result"
    }
   ],
   "source": [
    "Q1_tempo_summary=df_Q1['Tempo'].describe()\n",
    "Q2_tempo_summary=df_Q2['Tempo'].describe()\n",
    "Q3_tempo_summary=df_Q3['Tempo'].describe()\n",
    "Q4_tempo_summary=df_Q4['Tempo'].describe()\n",
    "dff=[Q1_tempo_summary,Q2_tempo_summary,Q3_tempo_summary,Q4_tempo_summary]\n",
    "Tempo_summary_df=pd.DataFrame(dff, index=([\"Q1\",\"Q2\",\"Q3\",\"Q4\"]))\n",
    "Tempo_summary_df\n",
    "\n"
   ]
  },
  {
   "cell_type": "markdown",
   "metadata": {},
   "source": [
    "Average streams "
   ]
  },
  {
   "cell_type": "code",
   "execution_count": 166,
   "metadata": {},
   "outputs": [
    {
     "data": {
      "text/html": [
       "<div>\n",
       "<style scoped>\n",
       "    .dataframe tbody tr th:only-of-type {\n",
       "        vertical-align: middle;\n",
       "    }\n",
       "\n",
       "    .dataframe tbody tr th {\n",
       "        vertical-align: top;\n",
       "    }\n",
       "\n",
       "    .dataframe thead th {\n",
       "        text-align: right;\n",
       "    }\n",
       "</style>\n",
       "<table border=\"1\" class=\"dataframe\">\n",
       "  <thead>\n",
       "    <tr style=\"text-align: right;\">\n",
       "      <th></th>\n",
       "      <th>count</th>\n",
       "      <th>mean</th>\n",
       "      <th>std</th>\n",
       "      <th>min</th>\n",
       "      <th>25%</th>\n",
       "      <th>50%</th>\n",
       "      <th>75%</th>\n",
       "      <th>max</th>\n",
       "    </tr>\n",
       "  </thead>\n",
       "  <tbody>\n",
       "    <tr>\n",
       "      <td>Q1</td>\n",
       "      <td>200.0</td>\n",
       "      <td>51413.46</td>\n",
       "      <td>36237.174960</td>\n",
       "      <td>24631.0</td>\n",
       "      <td>28621.25</td>\n",
       "      <td>37850.5</td>\n",
       "      <td>57722.25</td>\n",
       "      <td>288698.0</td>\n",
       "    </tr>\n",
       "    <tr>\n",
       "      <td>Q2</td>\n",
       "      <td>200.0</td>\n",
       "      <td>56983.13</td>\n",
       "      <td>41817.623754</td>\n",
       "      <td>27811.0</td>\n",
       "      <td>33887.00</td>\n",
       "      <td>42393.5</td>\n",
       "      <td>60421.50</td>\n",
       "      <td>330333.0</td>\n",
       "    </tr>\n",
       "    <tr>\n",
       "      <td>Q3</td>\n",
       "      <td>200.0</td>\n",
       "      <td>54346.11</td>\n",
       "      <td>30139.431338</td>\n",
       "      <td>28612.0</td>\n",
       "      <td>33653.75</td>\n",
       "      <td>41594.0</td>\n",
       "      <td>64280.75</td>\n",
       "      <td>201548.0</td>\n",
       "    </tr>\n",
       "    <tr>\n",
       "      <td>Q4</td>\n",
       "      <td>200.0</td>\n",
       "      <td>58987.33</td>\n",
       "      <td>36003.740529</td>\n",
       "      <td>31661.0</td>\n",
       "      <td>36310.75</td>\n",
       "      <td>45748.5</td>\n",
       "      <td>66280.00</td>\n",
       "      <td>268419.0</td>\n",
       "    </tr>\n",
       "  </tbody>\n",
       "</table>\n",
       "</div>"
      ],
      "text/plain": [
       "    count      mean           std      min       25%      50%       75%  \\\n",
       "Q1  200.0  51413.46  36237.174960  24631.0  28621.25  37850.5  57722.25   \n",
       "Q2  200.0  56983.13  41817.623754  27811.0  33887.00  42393.5  60421.50   \n",
       "Q3  200.0  54346.11  30139.431338  28612.0  33653.75  41594.0  64280.75   \n",
       "Q4  200.0  58987.33  36003.740529  31661.0  36310.75  45748.5  66280.00   \n",
       "\n",
       "         max  \n",
       "Q1  288698.0  \n",
       "Q2  330333.0  \n",
       "Q3  201548.0  \n",
       "Q4  268419.0  "
      ]
     },
     "execution_count": 166,
     "metadata": {},
     "output_type": "execute_result"
    }
   ],
   "source": [
    "Q1_streams_summary=df_Q1['Streams'].describe()\n",
    "Q2_streams_summary=df_Q2['Streams'].describe()\n",
    "Q3_streams_summary=df_Q3['Streams'].describe()\n",
    "Q4_streams_summary=df_Q4['Streams'].describe()\n",
    "df_s=[Q1_streams_summary,Q2_streams_summary,Q3_streams_summary,Q4_streams_summary]\n",
    "Streams_summary_df=pd.DataFrame(df_s, index=([\"Q1\",\"Q2\",\"Q3\",\"Q4\"]))\n",
    "Streams_summary_df\n",
    "\n"
   ]
  },
  {
   "cell_type": "markdown",
   "metadata": {},
   "source": [
    "Mean Analysis"
   ]
  },
  {
   "cell_type": "code",
   "execution_count": 88,
   "metadata": {},
   "outputs": [
    {
     "data": {
      "text/html": [
       "<div>\n",
       "<style scoped>\n",
       "    .dataframe tbody tr th:only-of-type {\n",
       "        vertical-align: middle;\n",
       "    }\n",
       "\n",
       "    .dataframe tbody tr th {\n",
       "        vertical-align: top;\n",
       "    }\n",
       "\n",
       "    .dataframe thead th {\n",
       "        text-align: right;\n",
       "    }\n",
       "</style>\n",
       "<table border=\"1\" class=\"dataframe\">\n",
       "  <thead>\n",
       "    <tr style=\"text-align: right;\">\n",
       "      <th></th>\n",
       "      <th>Streams</th>\n",
       "      <th>Tempo</th>\n",
       "      <th>Valence</th>\n",
       "      <th>Speechiness</th>\n",
       "      <th>Danceability</th>\n",
       "    </tr>\n",
       "  </thead>\n",
       "  <tbody>\n",
       "    <tr>\n",
       "      <td>Q1</td>\n",
       "      <td>51413.46</td>\n",
       "      <td>117.806420</td>\n",
       "      <td>0.441819</td>\n",
       "      <td>0.137655</td>\n",
       "      <td>0.705750</td>\n",
       "    </tr>\n",
       "    <tr>\n",
       "      <td>Q2</td>\n",
       "      <td>56983.13</td>\n",
       "      <td>119.556690</td>\n",
       "      <td>0.508215</td>\n",
       "      <td>0.116193</td>\n",
       "      <td>0.706060</td>\n",
       "    </tr>\n",
       "    <tr>\n",
       "      <td>Q3</td>\n",
       "      <td>54346.11</td>\n",
       "      <td>120.992890</td>\n",
       "      <td>0.501311</td>\n",
       "      <td>0.143260</td>\n",
       "      <td>0.711440</td>\n",
       "    </tr>\n",
       "    <tr>\n",
       "      <td>Q4</td>\n",
       "      <td>58987.33</td>\n",
       "      <td>118.938155</td>\n",
       "      <td>0.463131</td>\n",
       "      <td>0.124981</td>\n",
       "      <td>0.705295</td>\n",
       "    </tr>\n",
       "  </tbody>\n",
       "</table>\n",
       "</div>"
      ],
      "text/plain": [
       "     Streams       Tempo   Valence  Speechiness  Danceability\n",
       "Q1  51413.46  117.806420  0.441819     0.137655      0.705750\n",
       "Q2  56983.13  119.556690  0.508215     0.116193      0.706060\n",
       "Q3  54346.11  120.992890  0.501311     0.143260      0.711440\n",
       "Q4  58987.33  118.938155  0.463131     0.124981      0.705295"
      ]
     },
     "execution_count": 88,
     "metadata": {},
     "output_type": "execute_result"
    }
   ],
   "source": [
    "Quarters_mean_summary={\"Streams\":{\"Q1\":df_Q1['Streams'].mean(),\"Q2\":df_Q2['Streams'].mean(),\"Q3\":df_Q3['Streams'].mean(),\"Q4\":df_Q4['Streams'].mean()},\n",
    "                \"Tempo\":{\"Q1\":df_Q1['Tempo'].mean(),\"Q2\":df_Q2['Tempo'].mean(),\"Q3\":df_Q3['Tempo'].mean(),\"Q4\":df_Q4['Tempo'].mean()},\n",
    "                \"Valence\":{\"Q1\":df_Q1['Valence'].mean(),\"Q2\":df_Q2['Valence'].mean(),\"Q3\":df_Q3['Valence'].mean(),\"Q4\":df_Q4['Valence'].mean()},\n",
    "                \"Speechiness\":{\"Q1\":df_Q1['Speechiness'].mean(),\"Q2\":df_Q2['Speechiness'].mean(),\"Q3\":df_Q3['Speechiness'].mean(),\"Q4\":df_Q4['Speechiness'].mean()},\n",
    "                \"Danceability\":{\"Q1\":df_Q1['Danceability'].mean(),\"Q2\":df_Q2['Danceability'].mean(),\"Q3\":df_Q3['Danceability'].mean(),\"Q4\":df_Q4['Danceability'].mean()}}\n",
    "pd.DataFrame(Quarters_mean_summary)\n",
    "\n"
   ]
  },
  {
   "cell_type": "code",
   "execution_count": 91,
   "metadata": {},
   "outputs": [
    {
     "data": {
      "text/plain": [
       "[<matplotlib.lines.Line2D at 0x1a29481290>]"
      ]
     },
     "execution_count": 91,
     "metadata": {},
     "output_type": "execute_result"
    },
    {
     "data": {
      "image/png": "[encoded data removed]",
      "text/plain": [
       "<Figure size 432x288 with 1 Axes>"
      ]
     },
     "metadata": {
      "needs_background": "light"
     },
     "output_type": "display_data"
    }
   ],
   "source": [
    "Quarters_mean_summary={\"Streams\":[df_Q1['Streams'].mean(),df_Q2['Streams'].mean(),df_Q3['Streams'].mean(),df_Q4['Streams'].mean()]\n",
    ",\"Tempo\":[df_Q1['Tempo'].mean(),df_Q2['Tempo'].mean(),df_Q3['Tempo'].mean(),df_Q4['Tempo'].mean()],\n",
    "                \"Valence\":[df_Q1['Valence'].mean(),df_Q2['Valence'].mean(),df_Q3['Valence'].mean(),df_Q4['Valence'].mean()],\n",
    "                \"Speechiness\":[df_Q1['Speechiness'].mean(),df_Q2['Speechiness'].mean(),df_Q3['Speechiness'].mean(),df_Q4['Speechiness'].mean()],\n",
    "                \"Danceability\":[df_Q1['Danceability'].mean(),df_Q2['Danceability'].mean(),df_Q3['Danceability'].mean(),df_Q4['Danceability'].mean()]}\n",
    "pd.DataFrame(Quarters_mean_summary)\n",
    "plt.plot(Quarters_mean_summary[\"Streams\"])\n"
   ]
  },
  {
   "cell_type": "code",
   "execution_count": 92,
   "metadata": {},
   "outputs": [
    {
     "data": {
      "text/plain": [
       "[<matplotlib.lines.Line2D at 0x1a29524bd0>]"
      ]
     },
     "execution_count": 92,
     "metadata": {},
     "output_type": "execute_result"
    },
    {
     "data": {
      "image/png": "[encoded data removed]",
      "text/plain": [
       "<Figure size 432x288 with 1 Axes>"
      ]
     },
     "metadata": {
      "needs_background": "light"
     },
     "output_type": "display_data"
    }
   ],
   "source": [
    "plt.plot(Quarters_mean_summary[\"Tempo\"])\n"
   ]
  },
  {
   "cell_type": "code",
   "execution_count": 93,
   "metadata": {},
   "outputs": [
    {
     "data": {
      "text/plain": [
       "[<matplotlib.lines.Line2D at 0x1a295ce8d0>]"
      ]
     },
     "execution_count": 93,
     "metadata": {},
     "output_type": "execute_result"
    },
    {
     "data": {
      "image/png": "[encoded data removed]",
      "text/plain": [
       "<Figure size 432x288 with 1 Axes>"
      ]
     },
     "metadata": {
      "needs_background": "light"
     },
     "output_type": "display_data"
    }
   ],
   "source": [
    "plt.plot(Quarters_mean_summary[\"Valence\"])"
   ]
  },
  {
   "cell_type": "code",
   "execution_count": 94,
   "metadata": {},
   "outputs": [
    {
     "data": {
      "text/plain": [
       "[<matplotlib.lines.Line2D at 0x1a29677b50>]"
      ]
     },
     "execution_count": 94,
     "metadata": {},
     "output_type": "execute_result"
    },
    {
     "data": {
      "image/png": "[encoded data removed]",
      "text/plain": [
       "<Figure size 432x288 with 1 Axes>"
      ]
     },
     "metadata": {
      "needs_background": "light"
     },
     "output_type": "display_data"
    }
   ],
   "source": [
    "plt.plot(Quarters_mean_summary[\"Speechiness\"])"
   ]
  },
  {
   "cell_type": "code",
   "execution_count": 95,
   "metadata": {},
   "outputs": [
    {
     "data": {
      "text/plain": [
       "<matplotlib.collections.PathCollection at 0x1a29833dd0>"
      ]
     },
     "execution_count": 95,
     "metadata": {},
     "output_type": "execute_result"
    },
    {
     "data": {
      "image/png": "[encoded data removed]",
      "text/plain": [
       "<Figure size 1440x720 with 4 Axes>"
      ]
     },
     "metadata": {
      "needs_background": "light"
     },
     "output_type": "display_data"
    }
   ],
   "source": [
    "\n",
    "#Finding any possible correlation between tempo and popularity\n",
    "\n",
    "fig2, axs = plt.subplots(1,4,sharex='col', sharey='row',\n",
    "                        gridspec_kw={'hspace': 0, 'wspace': 0},figsize=(20,10))\n",
    "ax1, ax2, ax3, ax4 = axs\n",
    "\n",
    "ax1.scatter(df_Q1['Tempo'], df_Q1['Popularity'],color='red')\n",
    "ax2.scatter(df_Q2['Tempo'], df_Q2['Popularity'],color='blue')\n",
    "ax3.scatter(df_Q3['Tempo'], df_Q3['Popularity'],color='green')\n",
    "ax4.scatter(df_Q4['Tempo'], df_Q4['Popularity'],color='orange')"
   ]
  },
  {
   "cell_type": "code",
   "execution_count": 121,
   "metadata": {},
   "outputs": [
    {
     "name": "stdout",
     "output_type": "stream",
     "text": [
      "The correlation coefficient between Q1 Tempo and Popularity is -0.07\n",
      "The correlation coefficient between Q2 Tempo and Popularity is -0.0\n",
      "The correlation coefficient between Q3 Tempo and Popularity is -0.15\n",
      "The correlation coefficient between Q4 Tempo and Popularity is -0.02\n"
     ]
    }
   ],
   "source": [
    "print(f\"The correlation coefficient between Q1 Tempo and Popularity is {round(pearsonr(df_Q1['Tempo'],df_Q1['Popularity'])[0],2)}\")\n",
    "print(f\"The correlation coefficient between Q2 Tempo and Popularity is {round(pearsonr(df_Q2['Tempo'],df_Q2['Popularity'])[0],2)}\")\n",
    "print(f\"The correlation coefficient between Q3 Tempo and Popularity is {round(pearsonr(df_Q3['Tempo'],df_Q3['Popularity'])[0],2)}\")\n",
    "print(f\"The correlation coefficient between Q4 Tempo and Popularity is {round(pearsonr(df_Q4['Tempo'],df_Q4['Popularity'])[0],2)}\")"
   ]
  },
  {
   "cell_type": "markdown",
   "metadata": {},
   "source": []
  },
  {
   "cell_type": "code",
   "execution_count": 120,
   "metadata": {},
   "outputs": [
    {
     "name": "stdout",
     "output_type": "stream",
     "text": [
      "The correlation coefficient between Q1 Tempo and Duration is 0.1\n",
      "The correlation coefficient between Q2 Tempo and Duration is 0.0\n",
      "The correlation coefficient between Q3 Tempo and Duration is -0.15\n",
      "The correlation coefficient between Q4 Tempo and Duration is -0.1\n"
     ]
    }
   ],
   "source": [
    "print(f\"The correlation coefficient between Q1 Tempo and Duration is {round(pearsonr(df_Q1['Tempo'],df_Q1['Duration'])[0],2)}\")\n",
    "print(f\"The correlation coefficient between Q2 Tempo and Duration is {round(pearsonr(df_Q2['Tempo'],df_Q2['Duration'])[0],2)}\")\n",
    "print(f\"The correlation coefficient between Q3 Tempo and Duration is {round(pearsonr(df_Q3['Tempo'],df_Q3['Duration'])[0],2)}\")\n",
    "print(f\"The correlation coefficient between Q4 Tempo and Duration is {round(pearsonr(df_Q4['Tempo'],df_Q4['Duration'])[0],2)}\")"
   ]
  },
  {
   "cell_type": "markdown",
   "metadata": {},
   "source": [
    "~top 50 vs bottom 50"
   ]
  },
  {
   "cell_type": "code",
   "execution_count": 144,
   "metadata": {},
   "outputs": [
    {
     "name": "stdout",
     "output_type": "stream",
     "text": [
      "'Pvalue for top50 vs bottom 50 in quarter 1 of 2019 is 0.9998'\n"
     ]
    }
   ],
   "source": [
    "Q1_t50_df=df_Q1.head(50)\n",
    "Q1_b50_df=df_Q1.tail(50)\n",
    "pprint(f'Pvalue for top50 vs bottom 50 in quarter 1 of 2019 is {round(f_oneway(Q1_t50_df.Tempo,Q1_b50_df.Tempo)[1],4)}')"
   ]
  },
  {
   "cell_type": "code",
   "execution_count": 171,
   "metadata": {},
   "outputs": [
    {
     "name": "stdout",
     "output_type": "stream",
     "text": [
      "The average tempo of bottom 50 songs vs top 50 songs in Q2 128.1745 vs 113.7046\n",
      "The average tempo of bottom 50 songs vs top 50 songs in Q3 121.3086 vs 120.3106\n",
      "The average tempo of bottom 50 songs vs top 50 songs in Q4 120.53556 vs 118.87192\n"
     ]
    }
   ],
   "source": [
    "print(f'The average tempo of bottom 50 songs vs top 50 songs in Q2 {round(Q2_b50_df.Tempo.mean(),4)} vs {round(Q2_t50_df.Tempo.mean(),4)}')\n",
    "\n",
    "print(f'The average tempo of bottom 50 songs vs top 50 songs in Q3 {round(Q3_b50_df.Tempo.mean(),4)} vs {round(Q3_t50_df.Tempo.mean(),4)}')\n",
    "\n",
    "print(f'The average tempo of bottom 50 songs vs top 50 songs in Q4 {Q4_b50_df.Tempo.mean()} vs {Q4_t50_df.Tempo.mean()}')"
   ]
  },
  {
   "cell_type": "code",
   "execution_count": 172,
   "metadata": {},
   "outputs": [
    {
     "name": "stdout",
     "output_type": "stream",
     "text": [
      "Pvalue for top50 vs bottom 50 in quarter 2 of 2019 is 0.0105\n"
     ]
    }
   ],
   "source": [
    "Q2_t50_df=df_Q2.head(50)\n",
    "Q2_b50_df=df_Q2.tail(50)\n",
    "print(f'Pvalue for top50 vs bottom 50 in quarter 2 of 2019 is {round(f_oneway(Q2_t50_df.Tempo,Q2_b50_df.Tempo)[1],4)}')"
   ]
  },
  {
   "cell_type": "code",
   "execution_count": 173,
   "metadata": {},
   "outputs": [
    {
     "name": "stdout",
     "output_type": "stream",
     "text": [
      "Pvalue for top50 vs bottom 50 in quarter 3 of 2019 is 0.8686\n"
     ]
    }
   ],
   "source": [
    "Q3_t50_df=df_Q3.head(50)\n",
    "Q3_b50_df=df_Q3.tail(50)\n",
    "print(f'Pvalue for top50 vs bottom 50 in quarter 3 of 2019 is {round(f_oneway(Q3_t50_df.Tempo,Q3_b50_df.Tempo)[1],4)}')"
   ]
  },
  {
   "cell_type": "code",
   "execution_count": 174,
   "metadata": {},
   "outputs": [
    {
     "name": "stdout",
     "output_type": "stream",
     "text": [
      "Pvalue for top50 vs bottom 50 in quarter 1 of 2019 is 0.7594\n"
     ]
    }
   ],
   "source": [
    "Q4_t50_df=df_Q4.head(50)\n",
    "Q4_b50_df=df_Q4.tail(50)\n",
    "print(f'Pvalue for top50 vs bottom 50 in quarter 1 of 2019 is {round(f_oneway(Q4_t50_df.Tempo,Q4_b50_df.Tempo)[1],4)}')"
   ]
  },
  {
   "cell_type": "code",
   "execution_count": 175,
   "metadata": {},
   "outputs": [
    {
     "name": "stdout",
     "output_type": "stream",
     "text": [
      "Pvalue for overall tempo 2019 is 0.7357\n"
     ]
    }
   ],
   "source": [
    "print(f'Pvalue for overall tempo 2019 is {round(f_oneway(df_Q1.Tempo,df_Q2.Tempo,df_Q3.Tempo,df_Q4.Tempo)[1],4)}')"
   ]
  },
  {
   "cell_type": "markdown",
   "metadata": {},
   "source": [
    "####Results shows that there is no statistically significant difference between tempo amongst the 4 quarters"
   ]
  },
  {
   "cell_type": "code",
   "execution_count": null,
   "metadata": {},
   "outputs": [],
   "source": []
  }
 ],
 "metadata": {
  "kernelspec": {
   "display_name": "Python 3",
   "language": "python",
   "name": "python3"
  },
  "language_info": {
   "codemirror_mode": {
    "name": "ipython",
    "version": 3
   },
   "file_extension": ".py",
   "mimetype": "text/x-python",
   "name": "python",
   "nbconvert_exporter": "python",
   "pygments_lexer": "ipython3",
   "version": "3.7.4"
  }
 },
 "nbformat": 4,
 "nbformat_minor": 4
}
